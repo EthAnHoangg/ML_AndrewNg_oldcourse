{
 "cells": [
  {
   "cell_type": "code",
   "execution_count": 1,
   "id": "96840170",
   "metadata": {},
   "outputs": [],
   "source": [
    "# used for manipulating directory paths\n",
    "import os\n",
    "\n",
    "# Scientific and vector computation for python\n",
    "import numpy as np\n",
    "\n",
    "# Plotting library\n",
    "from matplotlib import pyplot\n",
    "\n",
    "# Optimization module in scipy\n",
    "from scipy import optimize\n",
    "\n",
    "# will be used to load MATLAB mat datafile format\n",
    "from scipy.io import loadmat\n",
    "\n",
    "# library written for this exercise providing additional functions for assignment submission, and others\n",
    "import utils\n",
    "\n",
    "# define the submission/grader object for this exercise\n",
    "grader = utils.Grader()\n",
    "\n",
    "# tells matplotlib to embed plots within the notebook\n",
    "%matplotlib inline"
   ]
  },
  {
   "cell_type": "code",
   "execution_count": 2,
   "id": "2ead3a32",
   "metadata": {},
   "outputs": [],
   "source": [
    "#  training data stored in arrays X, y\n",
    "data = loadmat(os.path.join('Data', 'ex4data1.mat'))\n",
    "X, y = data['X'], data['y'].ravel()\n",
    "\n",
    "# set the zero digit to 0, rather than its mapped 10 in this dataset\n",
    "# This is an artifact due to the fact that this dataset was used in \n",
    "# MATLAB where there is no index 0\n",
    "y[y == 10] = 0\n",
    "\n",
    "# Number of training examples\n",
    "m = y.size\n"
   ]
  },
  {
   "cell_type": "code",
   "execution_count": 5,
   "id": "78afc8e4",
   "metadata": {},
   "outputs": [],
   "source": [
    "# Setup the parameters you will use for this exercise\n",
    "input_layer_size  = 400  # 20x20 Input Images of Digits\n",
    "hidden_layer_size = 25   # 25 hidden units\n",
    "num_labels = 10          # 10 labels, from 0 to 9\n",
    "\n",
    "# Load the weights into variables Theta1 and Theta2\n",
    "weights = loadmat(os.path.join('Data', 'ex4weights.mat'))\n",
    "\n",
    "# Theta1 has size 25 x 401\n",
    "# Theta2 has size 10 x 26\n",
    "Theta1, Theta2 = weights['Theta1'], weights['Theta2']\n",
    "\n",
    "# swap first and last columns of Theta2, due to legacy from MATLAB indexing, \n",
    "# since the weight file ex3weights.mat was saved based on MATLAB indexing\n",
    "Theta2 = np.roll(Theta2, 1, axis=0)\n",
    "\n",
    "# Unroll parameters \n",
    "nn_params = np.concatenate([Theta1.ravel(), Theta2.ravel()])\n"
   ]
  },
  {
   "cell_type": "markdown",
   "id": "ea7a5535",
   "metadata": {},
   "source": [
    "# DATA SUMMARY "
   ]
  },
  {
   "cell_type": "code",
   "execution_count": 30,
   "id": "ed523892",
   "metadata": {},
   "outputs": [
    {
     "name": "stdout",
     "output_type": "stream",
     "text": [
      "Number of samples = 5000\n",
      "Size of X = (5000, 400)\n",
      "Hidden layer size = 25\n",
      "The size of Theta1 = (25, 401)\n",
      "The size of Theta2 = (10, 26)\n",
      "Size of encoded y = (5000, 10)\n",
      "[0. 1. 0. 0. 0. 0. 0. 0. 0. 0.] ~~ y = 1\n",
      "[0. 0. 0. 0. 0. 0. 1. 0. 0. 0.] ~~ y = 6\n",
      "[0. 1. 0. 0. 0. 0. 0. 0. 0. 0.] ~~ y = 1\n",
      "[0. 0. 0. 0. 0. 0. 1. 0. 0. 0.] ~~ y = 6\n",
      "[0. 0. 0. 0. 0. 0. 0. 0. 1. 0.] ~~ y = 8\n",
      "[1. 0. 0. 0. 0. 0. 0. 0. 0. 0.] ~~ y = 0\n",
      "[0. 0. 0. 0. 0. 1. 0. 0. 0. 0.] ~~ y = 5\n",
      "[0. 0. 0. 1. 0. 0. 0. 0. 0. 0.] ~~ y = 3\n",
      "[0. 0. 0. 0. 1. 0. 0. 0. 0. 0.] ~~ y = 4\n",
      "[0. 0. 0. 0. 1. 0. 0. 0. 0. 0.] ~~ y = 4\n"
     ]
    }
   ],
   "source": [
    "print('Number of samples =', m)\n",
    "print('Size of X =', X.shape)\n",
    "print('Hidden layer size =', hidden_layer_size)\n",
    "print('The size of Theta1 =', Theta1.shape)\n",
    "print('The size of Theta2 =', Theta2.shape)\n",
    "\n",
    "temp_y = np.zeros((m, 10))\n",
    "for i, num in enumerate(y):\n",
    "    temp_y[i][num] = 1\n",
    "print('Size of encoded y =', temp_y.shape)\n",
    "    \n",
    "rand_indices = np.random.choice(m, 100, replace=False)\n",
    "for i in range (10):\n",
    "    print (temp_y[rand_indices[i]], '~~ y =', y[rand_indices[i]])"
   ]
  },
  {
   "cell_type": "code",
   "execution_count": 48,
   "id": "759b380c",
   "metadata": {},
   "outputs": [],
   "source": [
    "def nnCostFunction(nn_params,\n",
    "                   input_layer_size,\n",
    "                   hidden_layer_size,\n",
    "                   num_labels,\n",
    "                   X, y, lambda_=0.0):\n",
    "    Theta1 = np.reshape(nn_params[:hidden_layer_size * (input_layer_size + 1)],\n",
    "                        (hidden_layer_size, (input_layer_size + 1)))\n",
    "\n",
    "    Theta2 = np.reshape(nn_params[(hidden_layer_size * (input_layer_size + 1)):],\n",
    "                        (num_labels, (hidden_layer_size + 1)))\n",
    "\n",
    "    # Setup some useful variables\n",
    "    m = y.size\n",
    "         \n",
    "    # You need to return the following variables correctly \n",
    "    J = 0\n",
    "    Theta1_grad = np.zeros(Theta1.shape)\n",
    "    Theta2_grad = np.zeros(Theta2.shape)\n",
    "    \n",
    "    X = np.concatenate([np.ones((m,1)), X], axis = 1)\n",
    "    z_2 = X.dot(Theta1.T)\n",
    "    a_2 = utils.sigmoid(z_2)\n",
    "    a_2 = np.concatenate([np.ones((m ,1)), a_2], axis = 1)\n",
    "    h_X = (utils.sigmoid(a_2.dot(Theta2.T)))\n",
    "    \n",
    "#     for i in range (m):\n",
    "#         for k in range (10):\n",
    "#             J = J + (- temp_y[i][k] * np.log(h_X[i][k]) - (1 - temp_y[i][k]) * np.log(1 - h_X[i][k]))\n",
    "#     J = J/m\n",
    "    for i in range (m):\n",
    "        J = J + (-temp_y[i].dot(np.log(h_X[i].T)) - (1 - temp_y[i]).dot(np.log(1- h_X[i].T)))\n",
    "    J  = J/m + lambda_ * (np.sum(Theta1[:,1:]**2) + np.sum(Theta2[:, 1:]**2)) / (2 * m)\n",
    "    \n",
    "    print(h_X.shape)\n",
    "    return J"
   ]
  },
  {
   "cell_type": "code",
   "execution_count": 49,
   "id": "972515f3",
   "metadata": {},
   "outputs": [
    {
     "name": "stdout",
     "output_type": "stream",
     "text": [
      "(5000, 10)\n",
      "Cost at parameters (loaded from ex4weights): 0.383770 \n",
      "The cost should be about                   : 0.287629.\n"
     ]
    }
   ],
   "source": [
    "lambda_ = 0\n",
    "J = nnCostFunction(nn_params, input_layer_size, hidden_layer_size,\n",
    "                   num_labels, X, y, lambda_ = 1)\n",
    "\n",
    "print('Cost at parameters (loaded from ex4weights): %.6f ' % J)\n",
    "print('The cost should be about                   : 0.287629.')"
   ]
  },
  {
   "cell_type": "code",
   "execution_count": 51,
   "id": "6b2b75e6",
   "metadata": {},
   "outputs": [
    {
     "name": "stdout",
     "output_type": "stream",
     "text": [
      "[[ 0 -2 -3]\n",
      " [-2 -4 -5]\n",
      " [-1 -8 -5]]\n"
     ]
    },
    {
     "data": {
      "text/plain": [
       "array([[  0,  -6, -12],\n",
       "       [ -6, -20, -30],\n",
       "       [ -2, -72, -30]])"
      ]
     },
     "execution_count": 51,
     "metadata": {},
     "output_type": "execute_result"
    }
   ],
   "source": [
    "a = np.array([[1,3,4], [3,5,6], [2,9,6]])\n",
    "print(1-a)\n",
    "a * (1 - a)"
   ]
  },
  {
   "cell_type": "code",
   "execution_count": null,
   "id": "76accce0",
   "metadata": {},
   "outputs": [],
   "source": []
  }
 ],
 "metadata": {
  "kernelspec": {
   "display_name": "Python 3",
   "language": "python",
   "name": "python3"
  },
  "language_info": {
   "codemirror_mode": {
    "name": "ipython",
    "version": 3
   },
   "file_extension": ".py",
   "mimetype": "text/x-python",
   "name": "python",
   "nbconvert_exporter": "python",
   "pygments_lexer": "ipython3",
   "version": "3.9.0"
  }
 },
 "nbformat": 4,
 "nbformat_minor": 5
}
